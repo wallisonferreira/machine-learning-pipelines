{
  "nbformat": 4,
  "nbformat_minor": 0,
  "metadata": {
    "colab": {
      "provenance": [],
      "authorship_tag": "ABX9TyMuP3WDAoiizMP26zewbnLu",
      "include_colab_link": true
    },
    "kernelspec": {
      "name": "python3",
      "display_name": "Python 3"
    },
    "language_info": {
      "name": "python"
    }
  },
  "cells": [
    {
      "cell_type": "markdown",
      "metadata": {
        "id": "view-in-github",
        "colab_type": "text"
      },
      "source": [
        "<a href=\"https://colab.research.google.com/github/wallisonferreira/machine-learning-pipelines/blob/main/K_means_cluster_pipeline.ipynb\" target=\"_parent\"><img src=\"https://colab.research.google.com/assets/colab-badge.svg\" alt=\"Open In Colab\"/></a>"
      ]
    },
    {
      "cell_type": "markdown",
      "source": [
        "# KMeans Cluster Pipeline\n",
        "\n",
        "---\n",
        "Classification of books based on their context text"
      ],
      "metadata": {
        "id": "TIBX78rN3y8a"
      }
    },
    {
      "cell_type": "markdown",
      "source": [
        "## Import libraries"
      ],
      "metadata": {
        "id": "MfcOnx5t4MeT"
      }
    },
    {
      "cell_type": "code",
      "source": [
        "from sklearn.cluster import KMeans\n",
        "from sklearn.decomposition import PCA\n",
        "import sklearn.metrics.cluster as metrics\n",
        "import pickle"
      ],
      "metadata": {
        "id": "PXIuD8KChORx"
      },
      "execution_count": null,
      "outputs": []
    },
    {
      "cell_type": "markdown",
      "source": [
        "## Clustering pipeline\n",
        "\n",
        "---\n",
        "1. import documents embeddings\n",
        "2. run KMeans cluster\n",
        "3. Apply PCA\n",
        "3. Calculate the required metrics on PCA and non-PCA data\n",
        "4. Return the results\n",
        "- nobs_100,\n",
        "- nobs_10,\n",
        "- pca_explained,\n",
        "- cs_100,\n",
        "- cs_10,\n",
        "- vms_100,\n",
        "- vms_10"
      ],
      "metadata": {
        "id": "RKd3RO2q4QGc"
      }
    },
    {
      "cell_type": "code",
      "source": [
        "# import documents embeddings\n",
        "data = pickle.load(open(\"documents.p\", \"rb\"))\n",
        "\n",
        "# run KMeans cluster\n",
        "model_kmeans = KMeans(n_clusters = 10, random_state = 2, tol=0.05, max_iter=50)\n",
        "clusters_data = model_kmeans.fit_predict(data['vectors'])\n",
        "\n",
        "# apply PCA in data vectors\n",
        "pca_algo = PCA(n_components = 10, random_state = 2)\n",
        "data_pca = pca_algo.fit_transform(data['vectors'])\n",
        "\n",
        "# run KMeans cluster over the pca data\n",
        "model_kmeans_pca = KMeans(n_clusters = 10, random_state = 2, tol=0.05, max_iter=50)\n",
        "clusters_data_pca = model_kmeans_pca.fit_predict(data_pca)\n",
        "\n",
        "# Calculate the required metrics\n",
        "\n",
        "# Number of observations in each cluster (original data)\n",
        "nobs_100 = [sum(1 for x in clusters_data if x == i) for i in range(10)]\n",
        "\n",
        "# Number of observations in each cluster (PCA data)\n",
        "nobs_10 = [sum(1 for x in clusters_data_pca if x == i) for i in range(10)]\n",
        "\n",
        "# Variance explained by the first 10 principal components\n",
        "pca_explained = sum(pca_algo.explained_variance_ratio_)\n",
        "\n",
        "# Completeness Score (for original data)\n",
        "cs_100 = metrics.completeness_score(data['group'], clusters_data)\n",
        "\n",
        "# Completeness Score (for PCA transformed data)\n",
        "cs_10 = metrics.completeness_score(data['group'], clusters_data_pca)\n",
        "\n",
        "# V-measure Score (for original data)\n",
        "vms_100 = metrics.v_measure_score(data['group'], clusters_data)\n",
        "\n",
        "# V-measure Score (for PCA transformed data)\n",
        "vms_10 = metrics.v_measure_score(data['group'], clusters_data_pca)\n",
        "\n",
        "# Returning the results as a dictionary\n",
        "print( {\n",
        "        \"nobs_100\": nobs_100,\n",
        "        \"nobs_10\": nobs_10,\n",
        "        \"pca_explained\": pca_explained,\n",
        "        \"cs_100\": cs_100,\n",
        "        \"cs_10\": cs_10,\n",
        "        \"vms_100\": vms_100,\n",
        "        \"vms_10\": vms_10\n",
        "})\n",
        "\n"
      ],
      "metadata": {
        "colab": {
          "base_uri": "https://localhost:8080/"
        },
        "id": "OOZYhdl-hfx3",
        "outputId": "d85f44c3-b05b-466c-8561-e44affe26adf"
      },
      "execution_count": null,
      "outputs": [
        {
          "output_type": "stream",
          "name": "stdout",
          "text": [
            "{'nobs_100': [5, 1450, 1500, 1394, 969, 1672, 1398, 587, 1201, 1138], 'nobs_10': [568, 1251, 2222, 620, 1140, 1105, 744, 1179, 1308, 1177], 'pca_explained': 0.15671531856060028, 'cs_100': 0.6402464914637147, 'cs_10': 0.4897132047941561, 'vms_100': 0.6450009670318155, 'vms_10': 0.5004541694561083}\n"
          ]
        }
      ]
    },
    {
      "cell_type": "code",
      "source": [],
      "metadata": {
        "id": "Us5lXecOqrR5"
      },
      "execution_count": null,
      "outputs": []
    },
    {
      "cell_type": "code",
      "source": [
        "pca_algo.explained_variance_[0]"
      ],
      "metadata": {
        "colab": {
          "base_uri": "https://localhost:8080/"
        },
        "id": "mggaHhokqTBy",
        "outputId": "c0d21060-b95e-4657-e7e6-0024b90b3d58"
      },
      "execution_count": null,
      "outputs": [
        {
          "output_type": "execute_result",
          "data": {
            "text/plain": [
              "0.70997953"
            ]
          },
          "metadata": {},
          "execution_count": 15
        }
      ]
    },
    {
      "cell_type": "code",
      "source": [
        "pca_algo.explained_variance_ratio_"
      ],
      "metadata": {
        "colab": {
          "base_uri": "https://localhost:8080/"
        },
        "id": "enkhbHApvsX5",
        "outputId": "9efcab5d-aaa9-4071-96ac-9ef1598722eb"
      },
      "execution_count": null,
      "outputs": [
        {
          "output_type": "execute_result",
          "data": {
            "text/plain": [
              "array([0.0270308 , 0.01800703, 0.01658055, 0.01485487, 0.01414905,\n",
              "       0.01401547, 0.01336578, 0.01327023, 0.01292253, 0.01251902],\n",
              "      dtype=float32)"
            ]
          },
          "metadata": {},
          "execution_count": 18
        }
      ]
    },
    {
      "cell_type": "markdown",
      "source": [
        "Solução"
      ],
      "metadata": {
        "id": "u5KuVMRmw_UP"
      }
    },
    {
      "cell_type": "code",
      "source": [
        "from sklearn.cluster import KMeans\n",
        "from sklearn.decomposition import PCA\n",
        "import sklearn.metrics.cluster as metrics\n",
        "import pickle\n",
        "\n",
        "# You can access the `data` folder by uncommenting the following command\n",
        "data = pickle.load(open(\"documents.p\", \"rb\"))\n",
        "\n",
        "# {'id': range(0, 11314), 'group': [2, 3, 3, 3, 1,...\n",
        "\n",
        "# id, vectors: vectors with size 100, group: document groups\n",
        "\n",
        "# cluster articles performs data clustering on data\n",
        "# returns a dict containing information about the clustered data\n",
        "\n",
        "def cluster_articles(data):\n",
        "\n",
        "    # run KMeans cluster\n",
        "    model_kmeans = KMeans(n_clusters = 10, random_state = 2, tol=0.05, max_iter=50)\n",
        "    clusters_data = model_kmeans.fit_predict(data['vectors'])\n",
        "\n",
        "    # apply PCA in data vectors\n",
        "    pca_algo = PCA(n_components = 10, random_state = 2)\n",
        "    data_pca = pca_algo.fit_transform(data['vectors'])\n",
        "\n",
        "    # run KMeans cluster over the pca data\n",
        "    model_kmeans_pca = KMeans(n_clusters = 10, random_state = 2, tol=0.05, max_iter=50)\n",
        "    clusters_data_pca = model_kmeans_pca.fit_predict(data_pca)\n",
        "\n",
        "    #dir(metrics)\n",
        "\n",
        "    # must return a dict with keys\n",
        "    ## nobs_100: number of observatios in each cluster\n",
        "    nobs_100 = [sum(1 for x in clusters_data if x == i) for i in range(10)]\n",
        "\n",
        "    global nobs\n",
        "    nobs = nobs_100\n",
        "\n",
        "    ## nobs_10: number of observatios in each cluster after apply PCA\n",
        "    nobs_10  = [sum(1 for x in clusters_data_pca if x == i) for i in range(10)]\n",
        "\n",
        "    ## pca_explained: variance explained by the first PCA\n",
        "    pca_explained = pca_algo.explained_variance_ratio_[0]\n",
        "\n",
        "    ## cs_100: completeness metric of cluster labelling given true values from data['group]\n",
        "    cs_100 = metrics.completeness_score(data['group'], clusters_data)\n",
        "\n",
        "    ## cs_100: completeness metric of cluster labelling given true values from data['group] after dimensionality reduction\n",
        "    cs_10 = metrics.completeness_score(data['group'], clusters_data_pca)\n",
        "\n",
        "    ## vms_100: V-measure of cluster labelling given true values from data['group] based on clustering\n",
        "    vms_100 = metrics.v_measure_score(data['group'], clusters_data)\n",
        "\n",
        "    ## vms_10: V-measure of cluster labelling given true values from data['group] based on clustering PCA\n",
        "    vms_10 = metrics.v_measure_score(data['group'], clusters_data_pca)\n",
        "\n",
        "    return {\n",
        "        'nobs_100': nobs_100,\n",
        "        'nobs_10': nobs_10,\n",
        "        'pca_explained': pca_explained,\n",
        "        'cs_100': cs_100,\n",
        "        'cs_10': cs_10,\n",
        "        'vms_100': vms_100,\n",
        "        'vms_10': vms_10\n",
        "    }\n",
        "\n",
        "cluster_articles(data)\n"
      ],
      "metadata": {
        "colab": {
          "base_uri": "https://localhost:8080/"
        },
        "id": "BA4NbkVBw971",
        "outputId": "0f007fef-7dff-42de-842d-d5f1b5d2111a"
      },
      "execution_count": null,
      "outputs": [
        {
          "output_type": "execute_result",
          "data": {
            "text/plain": [
              "{'nobs_100': [5, 1450, 1500, 1394, 969, 1672, 1398, 587, 1201, 1138],\n",
              " 'nobs_10': [568, 1251, 2222, 620, 1140, 1105, 744, 1179, 1308, 1177],\n",
              " 'pca_explained': 0.027030801,\n",
              " 'cs_100': 0.6402464914637147,\n",
              " 'cs_10': 0.4897132047941561,\n",
              " 'vms_100': 0.6450009670318155,\n",
              " 'vms_10': 0.5004541694561083}"
            ]
          },
          "metadata": {},
          "execution_count": 16
        }
      ]
    }
  ]
}