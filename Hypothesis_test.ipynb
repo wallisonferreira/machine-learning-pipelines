{
  "nbformat": 4,
  "nbformat_minor": 0,
  "metadata": {
    "colab": {
      "provenance": [],
      "authorship_tag": "ABX9TyMlZs8eLneWnZJZFklj5vYE",
      "include_colab_link": true
    },
    "kernelspec": {
      "name": "python3",
      "display_name": "Python 3"
    },
    "language_info": {
      "name": "python"
    }
  },
  "cells": [
    {
      "cell_type": "markdown",
      "metadata": {
        "id": "view-in-github",
        "colab_type": "text"
      },
      "source": [
        "<a href=\"https://colab.research.google.com/github/wallisonferreira/machine-learning-pipelines/blob/main/Hypothesis_test.ipynb\" target=\"_parent\"><img src=\"https://colab.research.google.com/assets/colab-badge.svg\" alt=\"Open In Colab\"/></a>"
      ]
    },
    {
      "cell_type": "markdown",
      "source": [
        "# Teste de Hipóteses"
      ],
      "metadata": {
        "id": "Bm3ZZAATr7qW"
      }
    },
    {
      "cell_type": "code",
      "source": [
        "!pip install scipy --quiet"
      ],
      "metadata": {
        "id": "Q2RTF4hGruX_"
      },
      "execution_count": null,
      "outputs": []
    },
    {
      "cell_type": "code",
      "execution_count": null,
      "metadata": {
        "id": "yAyv6mwnrq9z"
      },
      "outputs": [],
      "source": [
        "import numpy as np\n",
        "import scipy.stats as stats"
      ]
    },
    {
      "cell_type": "markdown",
      "source": [
        "## Teste de Hipóteses com (média de valores anteriores + valores atuais)"
      ],
      "metadata": {
        "id": "62GK_9_kIfJG"
      }
    },
    {
      "cell_type": "code",
      "source": [
        "np.random.seed(42) # garante que os dados sejam os mesmos\n",
        "novas_notas = np.random.normal(loc=78, scale=10, size=30) # média 78, std 10, tamanho 30"
      ],
      "metadata": {
        "id": "1ntu6_onsARN"
      },
      "execution_count": null,
      "outputs": []
    },
    {
      "cell_type": "code",
      "source": [
        "notas_anteriores_random = np.random.normal(loc=75, scale=10, size=30)"
      ],
      "metadata": {
        "id": "d9RDk6Vlz_FJ"
      },
      "execution_count": null,
      "outputs": []
    },
    {
      "cell_type": "code",
      "source": [
        "notas_anteriores = 75"
      ],
      "metadata": {
        "id": "OK2KgPbSswRk"
      },
      "execution_count": null,
      "outputs": []
    },
    {
      "cell_type": "code",
      "source": [
        "stat, p_valor = stats.ttest_1samp(novas_notas, notas_anteriores)"
      ],
      "metadata": {
        "id": "2ZcIFsUys0Ts"
      },
      "execution_count": null,
      "outputs": []
    },
    {
      "cell_type": "code",
      "source": [
        "alpha = 0.05"
      ],
      "metadata": {
        "id": "zUPlvPEXtDec"
      },
      "execution_count": null,
      "outputs": []
    },
    {
      "cell_type": "code",
      "source": [
        "print(f\"Estatística do teste: {stat:.2f}\")\n",
        "print(f\"p-valor: {p_valor:.4f}\")"
      ],
      "metadata": {
        "colab": {
          "base_uri": "https://localhost:8080/"
        },
        "id": "WQ2_WZfjtIAX",
        "outputId": "1ca62c6c-4dac-4f60-e93f-9d7a8b1eb820"
      },
      "execution_count": null,
      "outputs": [
        {
          "output_type": "stream",
          "name": "stdout",
          "text": [
            "Estatística do teste: 0.12\n",
            "p-valor: 0.9039\n"
          ]
        }
      ]
    },
    {
      "cell_type": "code",
      "source": [
        "if p_valor < alpha:\n",
        "    print(\"Hipótese nula rejeitada. O método atual alterou a média das notas.\")\n",
        "else:\n",
        "    print(\"Não podemos rejeitar a hipótese nula. O novo método pode não ter alterado as notas de forma signiificativa\")"
      ],
      "metadata": {
        "colab": {
          "base_uri": "https://localhost:8080/"
        },
        "id": "XTgIQXTFtp0Q",
        "outputId": "2ce3b747-5f02-4533-cc53-b097fa13a8c7"
      },
      "execution_count": null,
      "outputs": [
        {
          "output_type": "stream",
          "name": "stdout",
          "text": [
            "Não podemos rejeitar a hipótese nula. O novo método pode não ter alterado as notas de forma signiificativa\n"
          ]
        }
      ]
    },
    {
      "cell_type": "markdown",
      "source": [
        "## Teste de Hipóteses com (valores anteriores + valores atuais)"
      ],
      "metadata": {
        "id": "NURC3N81Item"
      }
    },
    {
      "cell_type": "markdown",
      "source": [
        "Agora, como temos duas amostras – as notas antes e depois do novo método –, precisamos comparar essas duas médias e ver se a diferença entre elas é significativa.\n",
        "\n",
        "Passos Importantes\n",
        "Verificar se as variâncias são iguais \n",
        "\n",
        "Para isso, usamos o teste de Levene ou teste F.\n",
        "Se as variâncias forem iguais, usamos o teste t de duas amostras com variâncias iguais.\n",
        "Se forem diferentes, usamos o teste t de duas amostras com variâncias diferentes (Welch’s t-test).\n",
        "Realizar o teste t para duas amostras \n",
        "\n",
        "Hipótese Nula (H0): As médias das notas são iguais antes e depois.\n",
        "Hipótese Alternativa (H1): As médias das notas são diferentes.\n"
      ],
      "metadata": {
        "id": "zt7dmBq8MlzC"
      }
    },
    {
      "cell_type": "code",
      "source": [
        "np.random.seed(42)\n",
        "notas_anteriores = np.random.normal(loc=75, scale=10, size=50)\n",
        "notas_atuais = np.random.normal(loc=76, scale=10, size=50)"
      ],
      "metadata": {
        "id": "1vdfeUaWJKdQ"
      },
      "execution_count": null,
      "outputs": []
    },
    {
      "cell_type": "code",
      "source": [
        "alpha = 0.05"
      ],
      "metadata": {
        "id": "TsP56rhtJlaj"
      },
      "execution_count": null,
      "outputs": []
    },
    {
      "cell_type": "code",
      "source": [
        "stat, p_valor = stats.ttest_ind(notas_anteriores, notas_atuais)\n",
        "\n",
        "print(p_valor)\n",
        "\n",
        "print('variáveis com variância igual') if (p_valor > alpha) else print('variáveis com variância desigual')"
      ],
      "metadata": {
        "colab": {
          "base_uri": "https://localhost:8080/"
        },
        "id": "J2Ew_tB8Jn5y",
        "outputId": "e4286871-6174-4c9b-8d70-983993be9bef"
      },
      "execution_count": null,
      "outputs": [
        {
          "output_type": "stream",
          "name": "stdout",
          "text": [
            "0.060703229523079695\n",
            "variáveis com variância igual\n"
          ]
        }
      ]
    },
    {
      "cell_type": "code",
      "source": [
        "variancias_iguais = p_valor > alpha\n",
        "\n",
        "if variancias_iguais:\n",
        "    stat, p_valor = stats.ttest_ind(notas_anteriores, notas_atuais, equal_var=True) # t-student test\n",
        "else:\n",
        "    stat, p_valor = stats.ttest_ind(notas_anteriores, notas_atuais, equal_var=False) # Welch test"
      ],
      "metadata": {
        "id": "j2O_uLMMJ3no"
      },
      "execution_count": null,
      "outputs": []
    },
    {
      "cell_type": "code",
      "source": [
        "print(f\"Estatística do teste: {stat:.2f}\")\n",
        "print(f\"p_valor: {p_valor:.4f}\")"
      ],
      "metadata": {
        "colab": {
          "base_uri": "https://localhost:8080/"
        },
        "id": "if9CgOuBLCLB",
        "outputId": "200b8839-5f88-49d8-92da-e0d32cf667b9"
      },
      "execution_count": null,
      "outputs": [
        {
          "output_type": "stream",
          "name": "stdout",
          "text": [
            "Estatística do teste: -1.90\n",
            "p_valor: 0.0607\n"
          ]
        }
      ]
    },
    {
      "cell_type": "code",
      "source": [
        "if p_valor < alpha:\n",
        "    print(\"Hipótese nula rejeitada. O método atual alterou a média das notas.\")\n",
        "else:\n",
        "    print(\"Não podemos rejeitar a hipótese nula. O método atual pode não ter afetado as notas de forma significativa.\")"
      ],
      "metadata": {
        "colab": {
          "base_uri": "https://localhost:8080/"
        },
        "id": "wty2f5tVLQBu",
        "outputId": "b713ac2c-428a-4647-c0a2-c0da60124a91"
      },
      "execution_count": null,
      "outputs": [
        {
          "output_type": "stream",
          "name": "stdout",
          "text": [
            "Não podemos rejeitar a hipótese nula. O método atual pode não ter afetado as notas de forma significativa.\n"
          ]
        }
      ]
    }
  ]
}
